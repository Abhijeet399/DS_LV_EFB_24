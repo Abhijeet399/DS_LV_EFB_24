{
 "cells": [
  {
   "cell_type": "code",
   "execution_count": 1,
   "id": "3fa26f4b",
   "metadata": {},
   "outputs": [],
   "source": [
    "import numpy as np\n",
    "import matplotlib.pyplot as plt"
   ]
  },
  {
   "cell_type": "code",
   "execution_count": 2,
   "id": "e054dfc5",
   "metadata": {},
   "outputs": [],
   "source": [
    "mean_1 = np.array([12, 19])\n",
    "mean_2 = np.array([-10, -20])"
   ]
  },
  {
   "cell_type": "code",
   "execution_count": 3,
   "id": "695a2063",
   "metadata": {},
   "outputs": [],
   "source": [
    "cov_1 = np.array([[1, 15], [15, 1]])\n",
    "cov_2 = np.array([[1, 10], [10, 1]])"
   ]
  },
  {
   "cell_type": "code",
   "execution_count": 4,
   "id": "89c6737f",
   "metadata": {},
   "outputs": [
    {
     "name": "stderr",
     "output_type": "stream",
     "text": [
      "C:\\Users\\bhatt\\AppData\\Local\\Temp\\ipykernel_188\\2167319079.py:1: RuntimeWarning: covariance is not symmetric positive-semidefinite.\n",
      "  dist_1 = np.random.multivariate_normal(mean_1, cov_1, size = 1000) # Multivariate means distribution with more than 1 dimensions\n",
      "C:\\Users\\bhatt\\AppData\\Local\\Temp\\ipykernel_188\\2167319079.py:2: RuntimeWarning: covariance is not symmetric positive-semidefinite.\n",
      "  dist_2 = np.random.multivariate_normal(mean_2, cov_2, size = 1000) # Multivariate means distribution with more than 1 dimensions\n"
     ]
    }
   ],
   "source": [
    "dist_1 = np.random.multivariate_normal(mean_1, cov_1, size = 1000) # Multivariate means distribution with more than 1 dimensions\n",
    "dist_2 = np.random.multivariate_normal(mean_2, cov_2, size = 1000) # Multivariate means distribution with more than 1 dimensions"
   ]
  },
  {
   "cell_type": "code",
   "execution_count": 5,
   "id": "7b9cf88c",
   "metadata": {},
   "outputs": [
    {
     "data": {
      "text/plain": [
       "((1000, 2), (1000, 2))"
      ]
     },
     "execution_count": 5,
     "metadata": {},
     "output_type": "execute_result"
    }
   ],
   "source": [
    "dist_1.shape, dist_2.shape"
   ]
  },
  {
   "cell_type": "code",
   "execution_count": 6,
   "id": "9bd3117b",
   "metadata": {},
   "outputs": [
    {
     "data": {
      "text/plain": [
       "<matplotlib.collections.PathCollection at 0x2387fb36f70>"
      ]
     },
     "execution_count": 6,
     "metadata": {},
     "output_type": "execute_result"
    },
    {
     "data": {
      "image/png": "[encoded data removed]",
      "text/plain": [
       "<Figure size 640x480 with 1 Axes>"
      ]
     },
     "metadata": {},
     "output_type": "display_data"
    }
   ],
   "source": [
    "plt.scatter(dist_1[:, 0], dist_1[:, 1], c = 'green')\n",
    "plt.scatter(dist_2[:, 0], dist_2[:, 1], c = 'blue')"
   ]
  },
  {
   "cell_type": "code",
   "execution_count": 7,
   "id": "92346cc7",
   "metadata": {},
   "outputs": [],
   "source": [
    "dataset = np.zeros((2000, 3))\n",
    "\n",
    "dataset[:1000, :-1] = dist_1\n",
    "dataset[1000:, :-1] = dist_2\n",
    "dataset[1000:, -1] = 1"
   ]
  },
  {
   "cell_type": "code",
   "execution_count": 8,
   "id": "a51d1b12",
   "metadata": {},
   "outputs": [],
   "source": [
    "u = np.mean(dataset[:, : -1], axis = 0)\n",
    "std = np.std(dataset[:, : -1], axis = 0)\n",
    "dataset[:, : -1] = (dataset[:, : -1] - u)/std"
   ]
  },
  {
   "cell_type": "code",
   "execution_count": 9,
   "id": "a497a777",
   "metadata": {},
   "outputs": [],
   "source": [
    "ones = np.ones((dataset.shape[0], 1))\n",
    "dataset = np.hstack((ones, dataset))"
   ]
  },
  {
   "cell_type": "code",
   "execution_count": 10,
   "id": "d1109b95",
   "metadata": {},
   "outputs": [],
   "source": [
    "np.random.shuffle(dataset)"
   ]
  },
  {
   "cell_type": "code",
   "execution_count": 11,
   "id": "f28ab08a",
   "metadata": {},
   "outputs": [
    {
     "name": "stdout",
     "output_type": "stream",
     "text": [
      "[[ 1.          1.30448327  1.07749963  0.        ]\n",
      " [ 1.         -1.32127112 -1.0200269   1.        ]\n",
      " [ 1.          0.686463    0.7525098   0.        ]\n",
      " [ 1.          0.29105262  0.86697695  0.        ]\n",
      " [ 1.         -1.31075342 -0.85359088  1.        ]\n",
      " [ 1.          1.62778767  1.37445656  0.        ]\n",
      " [ 1.         -0.84811886 -1.23763621  1.        ]\n",
      " [ 1.          1.61322034  0.9016113   0.        ]\n",
      " [ 1.          1.20383389  1.04843628  0.        ]\n",
      " [ 1.          1.04765208  0.72747019  0.        ]]\n"
     ]
    }
   ],
   "source": [
    "print(dataset[:10])"
   ]
  },
  {
   "cell_type": "code",
   "execution_count": 12,
   "id": "5eca4e9f",
   "metadata": {},
   "outputs": [],
   "source": [
    "split = 0.8\n",
    "\n",
    "train_X = dataset[:int(split * dataset.shape[0]), :-1]\n",
    "test_X = dataset[int(split * dataset.shape[0]):, :-1]\n",
    "train_Y = dataset[:int(split * dataset.shape[0]), -1]\n",
    "test_Y = dataset[int(split * dataset.shape[0]):, -1]"
   ]
  },
  {
   "cell_type": "code",
   "execution_count": 13,
   "id": "37588903",
   "metadata": {},
   "outputs": [
    {
     "name": "stdout",
     "output_type": "stream",
     "text": [
      "(1600, 3) (400, 3) (1600,) (400,)\n"
     ]
    }
   ],
   "source": [
    "print(train_X.shape, test_X.shape, train_Y.shape, test_Y.shape)"
   ]
  },
  {
   "cell_type": "code",
   "execution_count": 14,
   "id": "0cd9935d",
   "metadata": {},
   "outputs": [],
   "source": [
    "def hypothesis(X, weights):\n",
    "    return 1 / (1 + np.exp(-1 * np.dot(X, weights)))"
   ]
  },
  {
   "cell_type": "code",
   "execution_count": 15,
   "id": "cc9c6bcf",
   "metadata": {},
   "outputs": [],
   "source": [
    "def loss_func(X, weights, Y):\n",
    "    Y_pred = hypothesis(X, weights)\n",
    "    loss = np.mean(Y * np.log(Y_pred) + (1 - Y) * np.log(1 - Y_pred))\n",
    "    return -1 * loss"
   ]
  },
  {
   "cell_type": "code",
   "execution_count": 16,
   "id": "9d28ced5",
   "metadata": {},
   "outputs": [],
   "source": [
    "def gradient(X, Y, weight):\n",
    "    y_pred = hypothesis(X, weight)\n",
    "    grad = np.dot(X.T, (Y - y_pred))\n",
    "        \n",
    "    return grad/X.shape[0]"
   ]
  },
  {
   "cell_type": "code",
   "execution_count": 17,
   "id": "dd54698a",
   "metadata": {},
   "outputs": [],
   "source": [
    "def gradient_descent(X, Y):\n",
    "    weights = np.zeros((X.shape[1], ))\n",
    "    lr_rate = 0.03\n",
    "    loss_epoch = []\n",
    "    \n",
    "    epochs = 10000\n",
    "    \n",
    "    for i in range(epochs):\n",
    "        \n",
    "        grad = gradient(X, Y, weights)\n",
    "        \n",
    "        loss_epoch.append(loss_func(X, weights, Y))\n",
    "        \n",
    "        weights = weights + lr_rate * grad\n",
    "        \n",
    "    return weights, loss_epoch"
   ]
  },
  {
   "cell_type": "code",
   "execution_count": 18,
   "id": "4dab18c5",
   "metadata": {},
   "outputs": [
    {
     "name": "stdout",
     "output_type": "stream",
     "text": [
      "1.5651094913482666\n"
     ]
    }
   ],
   "source": [
    "import time\n",
    "start = time.time()\n",
    "weights, loss_epoch = gradient_descent(train_X, train_Y)\n",
    "print(time.time() - start)"
   ]
  },
  {
   "cell_type": "code",
   "execution_count": 19,
   "id": "7d1cbef0",
   "metadata": {},
   "outputs": [
    {
     "data": {
      "text/plain": [
       "[<matplotlib.lines.Line2D at 0x2387fe289a0>]"
      ]
     },
     "execution_count": 19,
     "metadata": {},
     "output_type": "execute_result"
    },
    {
     "data": {
      "image/png": "[encoded data removed]",
      "text/plain": [
       "<Figure size 640x480 with 1 Axes>"
      ]
     },
     "metadata": {},
     "output_type": "display_data"
    }
   ],
   "source": [
    "plt.plot(loss_epoch)"
   ]
  },
  {
   "cell_type": "code",
   "execution_count": 20,
   "id": "0081d20a",
   "metadata": {},
   "outputs": [
    {
     "data": {
      "text/plain": [
       "[0.6931471805599452,\n",
       " 0.6792290674817759,\n",
       " 0.6657123931858961,\n",
       " 0.6525853560609594,\n",
       " 0.63983634481136]"
      ]
     },
     "execution_count": 20,
     "metadata": {},
     "output_type": "execute_result"
    }
   ],
   "source": [
    "loss_epoch[:5]"
   ]
  },
  {
   "cell_type": "code",
   "execution_count": 21,
   "id": "bbd21662",
   "metadata": {},
   "outputs": [
    {
     "data": {
      "text/plain": [
       "array([-0.06396181, -3.16498658, -3.7061865 ])"
      ]
     },
     "execution_count": 21,
     "metadata": {},
     "output_type": "execute_result"
    }
   ],
   "source": [
    "weights"
   ]
  },
  {
   "cell_type": "code",
   "execution_count": 23,
   "id": "37e431a8",
   "metadata": {},
   "outputs": [],
   "source": [
    "X = np.arange(-20, 30)\n",
    "Y = -(weights[1] * X + weights[0])/weights[2]"
   ]
  },
  {
   "cell_type": "code",
   "execution_count": 25,
   "id": "cce34b4b",
   "metadata": {},
   "outputs": [
    {
     "data": {
      "text/plain": [
       "[<matplotlib.lines.Line2D at 0x238806eb040>]"
      ]
     },
     "execution_count": 25,
     "metadata": {},
     "output_type": "execute_result"
    },
    {
     "data": {
      "image/png": "[encoded data removed]",
      "text/plain": [
       "<Figure size 640x480 with 1 Axes>"
      ]
     },
     "metadata": {},
     "output_type": "display_data"
    }
   ],
   "source": [
    "plt.scatter(dist_1[:, 0], dist_1[:, 1], c = 'green')\n",
    "plt.scatter(dist_2[:, 0], dist_2[:, 1], c = 'blue')\n",
    "plt.plot(X, Y, color = 'pink')"
   ]
  },
  {
   "cell_type": "code",
   "execution_count": 30,
   "id": "1d4af181",
   "metadata": {},
   "outputs": [],
   "source": [
    "def predict(X, weights):\n",
    "    pred = hypothesis(X, weights)\n",
    "    \n",
    "    if pred > 0.5:\n",
    "        return 1\n",
    "    else:\n",
    "        return 0"
   ]
  },
  {
   "cell_type": "code",
   "execution_count": 31,
   "id": "fec27f36",
   "metadata": {},
   "outputs": [
    {
     "name": "stdout",
     "output_type": "stream",
     "text": [
      "0 0.0\n"
     ]
    }
   ],
   "source": [
    "print(predict(test_X[0], weights), test_Y[0])"
   ]
  },
  {
   "cell_type": "code",
   "execution_count": 32,
   "id": "138055bd",
   "metadata": {},
   "outputs": [
    {
     "name": "stdout",
     "output_type": "stream",
     "text": [
      "1.0\n"
     ]
    }
   ],
   "source": [
    "corr = 0\n",
    "\n",
    "for i in range(test_X.shape[0]):\n",
    "    pred = predict(test_X[i], weights)\n",
    "    if pred == test_Y[i]:\n",
    "        corr += 1\n",
    "print(corr/test_X.shape[0])"
   ]
  },
  {
   "cell_type": "code",
   "execution_count": null,
   "id": "c3928bb9",
   "metadata": {},
   "outputs": [],
   "source": []
  }
 ],
 "metadata": {
  "kernelspec": {
   "display_name": "Python 3 (ipykernel)",
   "language": "python",
   "name": "python3"
  },
  "language_info": {
   "codemirror_mode": {
    "name": "ipython",
    "version": 3
   },
   "file_extension": ".py",
   "mimetype": "text/x-python",
   "name": "python",
   "nbconvert_exporter": "python",
   "pygments_lexer": "ipython3",
   "version": "3.8.10"
  }
 },
 "nbformat": 4,
 "nbformat_minor": 5
}
