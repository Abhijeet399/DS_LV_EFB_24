{
 "cells": [
  {
   "cell_type": "code",
   "execution_count": 1,
   "id": "5e7b8772",
   "metadata": {},
   "outputs": [],
   "source": [
    "import tensorflow\n",
    "import keras\n",
    "import numpy as np\n",
    "import matplotlib.pyplot as plt\n",
    "from keras.datasets import mnist"
   ]
  },
  {
   "cell_type": "code",
   "execution_count": 2,
   "id": "8f9ebd53",
   "metadata": {},
   "outputs": [],
   "source": [
    "(train_X, train_Y), (test_X, test_Y) = mnist.load_data()"
   ]
  },
  {
   "cell_type": "code",
   "execution_count": 3,
   "id": "be27bfca",
   "metadata": {},
   "outputs": [
    {
     "name": "stdout",
     "output_type": "stream",
     "text": [
      "(60000, 28, 28) (60000,) (10000, 28, 28) (10000,)\n"
     ]
    }
   ],
   "source": [
    "print(train_X.shape, train_Y.shape, test_X.shape, test_Y.shape)"
   ]
  },
  {
   "cell_type": "code",
   "execution_count": 6,
   "id": "62345351",
   "metadata": {},
   "outputs": [
    {
     "name": "stdout",
     "output_type": "stream",
     "text": [
      "1\n"
     ]
    },
    {
     "data": {
      "image/png": "[encoded data removed]",
      "text/plain": [
       "<Figure size 640x480 with 1 Axes>"
      ]
     },
     "metadata": {},
     "output_type": "display_data"
    }
   ],
   "source": [
    "plt.imshow(train_X[70], cmap = 'gray')\n",
    "print(train_Y[70])"
   ]
  },
  {
   "cell_type": "code",
   "execution_count": 5,
   "id": "5dbbd530",
   "metadata": {},
   "outputs": [],
   "source": [
    "num_classes = 10"
   ]
  },
  {
   "cell_type": "code",
   "execution_count": 7,
   "id": "97680e90",
   "metadata": {},
   "outputs": [],
   "source": [
    "train_X = train_X/255\n",
    "test_X = test_X/255"
   ]
  },
  {
   "cell_type": "code",
   "execution_count": 8,
   "id": "4103e0b6",
   "metadata": {},
   "outputs": [
    {
     "data": {
      "text/plain": [
       "(28, 28)"
      ]
     },
     "execution_count": 8,
     "metadata": {},
     "output_type": "execute_result"
    }
   ],
   "source": [
    "train_X[0].shape"
   ]
  },
  {
   "cell_type": "code",
   "execution_count": 9,
   "id": "e6db1957",
   "metadata": {},
   "outputs": [],
   "source": [
    "train_X = np.expand_dims(train_X, -1)\n",
    "test_X = np.expand_dims(test_X, -1)"
   ]
  },
  {
   "cell_type": "code",
   "execution_count": 10,
   "id": "a3f0e411",
   "metadata": {},
   "outputs": [
    {
     "data": {
      "text/plain": [
       "(28, 28, 1)"
      ]
     },
     "execution_count": 10,
     "metadata": {},
     "output_type": "execute_result"
    }
   ],
   "source": [
    "train_X[0].shape"
   ]
  },
  {
   "cell_type": "code",
   "execution_count": 11,
   "id": "7a1c1e8a",
   "metadata": {},
   "outputs": [],
   "source": [
    "from tensorflow.keras.utils import to_categorical"
   ]
  },
  {
   "cell_type": "code",
   "execution_count": 12,
   "id": "19339b18",
   "metadata": {},
   "outputs": [],
   "source": [
    "train_Y = to_categorical(train_Y)\n",
    "test_Y = to_categorical(test_Y)"
   ]
  },
  {
   "cell_type": "code",
   "execution_count": 14,
   "id": "0d9850c5",
   "metadata": {},
   "outputs": [],
   "source": [
    "img_shape = (28, 28, 1)"
   ]
  },
  {
   "cell_type": "code",
   "execution_count": 15,
   "id": "d4aa71c4",
   "metadata": {},
   "outputs": [],
   "source": [
    "from keras import Sequential\n",
    "from keras.layers import Dense"
   ]
  },
  {
   "cell_type": "code",
   "execution_count": 18,
   "id": "92f45343",
   "metadata": {},
   "outputs": [],
   "source": [
    "model = Sequential([\n",
    "    keras.Input(shape = img_shape),\n",
    "    keras.layers.Conv2D(20, kernel_size = (5, 5), strides = (2, 2), padding = 'valid', activation = 'relu'),\n",
    "    keras.layers.Conv2D(40, kernel_size = (5, 5), strides = (2, 2), padding = 'valid', activation = 'relu'),\n",
    "    keras.layers.Conv2D(80, kernel_size = (3, 3), strides = (2, 2), padding = 'valid', activation = 'relu'),\n",
    "    keras.layers.Flatten(),\n",
    "    keras.layers.Dense(500, activation = 'relu'),\n",
    "    keras.layers.Dense(10, activation = 'softmax'),\n",
    "])"
   ]
  },
  {
   "cell_type": "code",
   "execution_count": 19,
   "id": "bc03a4cd",
   "metadata": {},
   "outputs": [
    {
     "name": "stdout",
     "output_type": "stream",
     "text": [
      "Model: \"sequential\"\n",
      "_________________________________________________________________\n",
      " Layer (type)                Output Shape              Param #   \n",
      "=================================================================\n",
      " conv2d (Conv2D)             (None, 12, 12, 20)        520       \n",
      "                                                                 \n",
      " conv2d_1 (Conv2D)           (None, 4, 4, 40)          20040     \n",
      "                                                                 \n",
      " conv2d_2 (Conv2D)           (None, 1, 1, 80)          28880     \n",
      "                                                                 \n",
      " flatten (Flatten)           (None, 80)                0         \n",
      "                                                                 \n",
      " dense (Dense)               (None, 500)               40500     \n",
      "                                                                 \n",
      " dense_1 (Dense)             (None, 10)                5010      \n",
      "                                                                 \n",
      "=================================================================\n",
      "Total params: 94950 (370.90 KB)\n",
      "Trainable params: 94950 (370.90 KB)\n",
      "Non-trainable params: 0 (0.00 Byte)\n",
      "_________________________________________________________________\n"
     ]
    }
   ],
   "source": [
    "model.summary()"
   ]
  },
  {
   "cell_type": "code",
   "execution_count": 20,
   "id": "8e441585",
   "metadata": {},
   "outputs": [],
   "source": [
    "model.compile(optimizer = 'Adam', loss = 'categorical_crossentropy', metrics = ['accuracy'])"
   ]
  },
  {
   "cell_type": "code",
   "execution_count": 21,
   "id": "b9871ba6",
   "metadata": {
    "scrolled": false
   },
   "outputs": [
    {
     "name": "stdout",
     "output_type": "stream",
     "text": [
      "Epoch 1/20\n",
      "540/540 [==============================] - 11s 15ms/step - loss: 0.3592 - accuracy: 0.8917 - val_loss: 0.1116 - val_accuracy: 0.9683\n",
      "Epoch 2/20\n",
      "540/540 [==============================] - 7s 13ms/step - loss: 0.1170 - accuracy: 0.9640 - val_loss: 0.0956 - val_accuracy: 0.9722\n",
      "Epoch 3/20\n",
      "540/540 [==============================] - 7s 13ms/step - loss: 0.0826 - accuracy: 0.9748 - val_loss: 0.0716 - val_accuracy: 0.9780\n",
      "Epoch 4/20\n",
      "540/540 [==============================] - 7s 14ms/step - loss: 0.0652 - accuracy: 0.9795 - val_loss: 0.0657 - val_accuracy: 0.9813\n",
      "Epoch 5/20\n",
      "540/540 [==============================] - 7s 14ms/step - loss: 0.0554 - accuracy: 0.9820 - val_loss: 0.0649 - val_accuracy: 0.9793\n",
      "Epoch 6/20\n",
      "540/540 [==============================] - 8s 15ms/step - loss: 0.0448 - accuracy: 0.9853 - val_loss: 0.0689 - val_accuracy: 0.9785\n",
      "Epoch 7/20\n",
      "540/540 [==============================] - 7s 14ms/step - loss: 0.0402 - accuracy: 0.9866 - val_loss: 0.0533 - val_accuracy: 0.9832\n",
      "Epoch 8/20\n",
      "540/540 [==============================] - 7s 14ms/step - loss: 0.0341 - accuracy: 0.9889 - val_loss: 0.0560 - val_accuracy: 0.9833\n",
      "Epoch 9/20\n",
      "540/540 [==============================] - 7s 13ms/step - loss: 0.0279 - accuracy: 0.9911 - val_loss: 0.0632 - val_accuracy: 0.9805\n",
      "Epoch 10/20\n",
      "540/540 [==============================] - 8s 14ms/step - loss: 0.0247 - accuracy: 0.9919 - val_loss: 0.0579 - val_accuracy: 0.9838\n",
      "Epoch 11/20\n",
      "540/540 [==============================] - 8s 15ms/step - loss: 0.0228 - accuracy: 0.9922 - val_loss: 0.0604 - val_accuracy: 0.9843\n",
      "Epoch 12/20\n",
      "540/540 [==============================] - 8s 15ms/step - loss: 0.0212 - accuracy: 0.9932 - val_loss: 0.0569 - val_accuracy: 0.9837\n",
      "Epoch 13/20\n",
      "540/540 [==============================] - 8s 15ms/step - loss: 0.0170 - accuracy: 0.9943 - val_loss: 0.0531 - val_accuracy: 0.9848\n",
      "Epoch 14/20\n",
      "540/540 [==============================] - 8s 14ms/step - loss: 0.0176 - accuracy: 0.9940 - val_loss: 0.0584 - val_accuracy: 0.9852\n",
      "Epoch 15/20\n",
      "540/540 [==============================] - 8s 14ms/step - loss: 0.0138 - accuracy: 0.9951 - val_loss: 0.0656 - val_accuracy: 0.9848\n",
      "Epoch 16/20\n",
      "540/540 [==============================] - 8s 15ms/step - loss: 0.0137 - accuracy: 0.9952 - val_loss: 0.0726 - val_accuracy: 0.9818\n",
      "Epoch 17/20\n",
      "540/540 [==============================] - 8s 15ms/step - loss: 0.0127 - accuracy: 0.9959 - val_loss: 0.0776 - val_accuracy: 0.9822\n",
      "Epoch 18/20\n",
      "540/540 [==============================] - 8s 14ms/step - loss: 0.0118 - accuracy: 0.9961 - val_loss: 0.0719 - val_accuracy: 0.9837\n",
      "Epoch 19/20\n",
      "540/540 [==============================] - 8s 14ms/step - loss: 0.0111 - accuracy: 0.9962 - val_loss: 0.0704 - val_accuracy: 0.9853\n",
      "Epoch 20/20\n",
      "540/540 [==============================] - 8s 14ms/step - loss: 0.0109 - accuracy: 0.9961 - val_loss: 0.0682 - val_accuracy: 0.9853\n"
     ]
    }
   ],
   "source": [
    "hist = model.fit(train_X, train_Y, batch_size = 100, epochs = 20, validation_split = 0.1)"
   ]
  },
  {
   "cell_type": "code",
   "execution_count": null,
   "id": "36ccdc41",
   "metadata": {},
   "outputs": [],
   "source": []
  }
 ],
 "metadata": {
  "kernelspec": {
   "display_name": "Python 3 (ipykernel)",
   "language": "python",
   "name": "python3"
  },
  "language_info": {
   "codemirror_mode": {
    "name": "ipython",
    "version": 3
   },
   "file_extension": ".py",
   "mimetype": "text/x-python",
   "name": "python",
   "nbconvert_exporter": "python",
   "pygments_lexer": "ipython3",
   "version": "3.8.10"
  }
 },
 "nbformat": 4,
 "nbformat_minor": 5
}
